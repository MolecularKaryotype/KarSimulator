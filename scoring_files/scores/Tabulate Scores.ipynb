{
 "cells": [
  {
   "cell_type": "code",
   "execution_count": 1,
   "id": "3d5b9089",
   "metadata": {},
   "outputs": [],
   "source": [
    "import os\n",
    "import pandas as pd\n",
    "import matplotlib.pyplot as plt"
   ]
  },
  {
   "cell_type": "code",
   "execution_count": 3,
   "id": "fca3ce1e",
   "metadata": {},
   "outputs": [],
   "source": [
    "tab_df = pd.DataFrame({'sample_name':[],\n",
    "                       'component_chrs':[],\n",
    "                       'Jaccard_Score':[],\n",
    "                       '#SV':[],\n",
    "                       '#indel': [],\n",
    "                       '#discont_bp': []})"
   ]
  },
  {
   "cell_type": "code",
   "execution_count": 4,
   "id": "fa8550f5",
   "metadata": {},
   "outputs": [],
   "source": [
    "def append_scores_to_df(df, file_name):\n",
    "    with open(file_name, 'r') as fp_read:\n",
    "        info_start = False\n",
    "        for line in fp_read:\n",
    "            if info_start and line.startswith('\\n'):\n",
    "                break\n",
    "            \n",
    "            if not info_start:\n",
    "                if not line.startswith('connected components\\' Jaccard Score:'):\n",
    "                    continue\n",
    "                else:\n",
    "                    info_start = True\n",
    "                    continue\n",
    "            \n",
    "            line = line.replace('\\n', '')\n",
    "            \n",
    "            info_1 = file_name.replace('.txt', '')\n",
    "            info_2 = line.split('(')[1].split(')')[0]\n",
    "            info_3 = line.split('Jaccard Score: ')[1]\n",
    "            info_4 = line.split('#SV: ')[1].split(',')[0]\n",
    "            info_5 = line.split('indel: ')[1].split(',')[0]\n",
    "            info_6 = line.split('discont_bp: ')[1].split(',')[0]\n",
    "            \n",
    "            df.loc[len(df.index)] = [info_1, info_2, info_3, info_4, info_5, info_6]"
   ]
  },
  {
   "cell_type": "code",
   "execution_count": 5,
   "id": "5756252f",
   "metadata": {},
   "outputs": [
    {
     "name": "stdout",
     "output_type": "stream",
     "text": [
      "                 sample_name  component_chrs         Jaccard_Score #SV  \\\n",
      "0    23X_15q26_overgrowth_r1      Chr2,Chr15    0.9835520849663352   3   \n",
      "1    23X_15q26_overgrowth_r1            Chr3    0.9935104741031334   1   \n",
      "2    23X_15q26_overgrowth_r1            Chr5    0.9895846961409622   1   \n",
      "3    23X_15q26_overgrowth_r1            Chr6  0.017993414334794934   1   \n",
      "4    23X_15q26_overgrowth_r1            Chr8    0.9941931955030547   1   \n",
      "..                       ...             ...                   ...  ..   \n",
      "105       23Y_Cri_du_Chat_r2            Chr5  0.021090633545844888   1   \n",
      "106       23Y_Cri_du_Chat_r2  Chr8,Chr9,Chr6    0.6088957741791491   4   \n",
      "107       23Y_Cri_du_Chat_r2           Chr10      0.99727546229551   1   \n",
      "108       23Y_Cri_du_Chat_r2           Chr13    0.9742057035289032   1   \n",
      "109       23Y_Cri_du_Chat_r2           Chr18    0.9764697159589835   1   \n",
      "\n",
      "        #indel #discont_bp  \n",
      "0      2603243           0  \n",
      "1        16802           0  \n",
      "2        61053           0  \n",
      "3    342253992           0  \n",
      "4        45929           0  \n",
      "..         ...         ...  \n",
      "105  581256600           0  \n",
      "106   19097990           0  \n",
      "107      12520           0  \n",
      "108     124481           0  \n",
      "109      79023           1  \n",
      "\n",
      "[110 rows x 6 columns]\n"
     ]
    }
   ],
   "source": [
    "for score_file in os.listdir(\"./\"):\n",
    "    if score_file.endswith('.txt'):\n",
    "        append_scores_to_df(tab_df, score_file)\n",
    "print(tab_df)"
   ]
  },
  {
   "cell_type": "code",
   "execution_count": null,
   "id": "7bd0971e",
   "metadata": {},
   "outputs": [],
   "source": [
    "tab_df['#discont_bp'] = df['#discont_bp'].replace(0, 1)"
   ]
  },
  {
   "cell_type": "code",
   "execution_count": null,
   "id": "1d1d1c64",
   "metadata": {},
   "outputs": [],
   "source": [
    "tab_df['scaled_indel'] = tab_df['#indel'] / tab_df['#discont_bp']"
   ]
  },
  {
   "cell_type": "code",
   "execution_count": 59,
   "id": "bdc4e728",
   "metadata": {},
   "outputs": [],
   "source": [
    "tab_df = tab_df.sort_values(by='Jaccard_Score', ascending=False)"
   ]
  },
  {
   "cell_type": "code",
   "execution_count": 60,
   "id": "7fb79c0c",
   "metadata": {},
   "outputs": [],
   "source": [
    "tab_df.to_csv(\"tab_data.csv\", index=False)"
   ]
  },
  {
   "cell_type": "code",
   "execution_count": null,
   "id": "45a565ad",
   "metadata": {},
   "outputs": [],
   "source": []
  }
 ],
 "metadata": {
  "kernelspec": {
   "display_name": "Python 3 (ipykernel)",
   "language": "python",
   "name": "python3"
  },
  "language_info": {
   "codemirror_mode": {
    "name": "ipython",
    "version": 3
   },
   "file_extension": ".py",
   "mimetype": "text/x-python",
   "name": "python",
   "nbconvert_exporter": "python",
   "pygments_lexer": "ipython3",
   "version": "3.9.12"
  }
 },
 "nbformat": 4,
 "nbformat_minor": 5
}
