{
 "cells": [
  {
   "cell_type": "code",
   "execution_count": 1,
   "id": "beb392ff",
   "metadata": {},
   "outputs": [],
   "source": [
    "import pandas as pd\n",
    "import matplotlib.pyplot as plt"
   ]
  },
  {
   "cell_type": "code",
   "execution_count": 2,
   "id": "9cd0ac5a",
   "metadata": {},
   "outputs": [],
   "source": [
    "original_masking_df = pd.read_csv('/media/zhaoyang-new/workspace/KarSim/KarSimulator/Metadata/hg38_cnv_masks.bed', sep='\\t')\n",
    "original_masking_df['StartPos'] = original_masking_df['StartPos'].astype(int)\n",
    "original_masking_df['EndPos'] = original_masking_df['EndPos'].astype(int)"
   ]
  },
  {
   "cell_type": "code",
   "execution_count": 3,
   "id": "ba66edaa",
   "metadata": {},
   "outputs": [
    {
     "data": {
      "text/html": [
       "<div>\n",
       "<style scoped>\n",
       "    .dataframe tbody tr th:only-of-type {\n",
       "        vertical-align: middle;\n",
       "    }\n",
       "\n",
       "    .dataframe tbody tr th {\n",
       "        vertical-align: top;\n",
       "    }\n",
       "\n",
       "    .dataframe thead th {\n",
       "        text-align: right;\n",
       "    }\n",
       "</style>\n",
       "<table border=\"1\" class=\"dataframe\">\n",
       "  <thead>\n",
       "    <tr style=\"text-align: right;\">\n",
       "      <th></th>\n",
       "      <th>Chr</th>\n",
       "      <th>StartPos</th>\n",
       "      <th>EndPos</th>\n",
       "    </tr>\n",
       "  </thead>\n",
       "  <tbody>\n",
       "    <tr>\n",
       "      <th>0</th>\n",
       "      <td>1</td>\n",
       "      <td>14453</td>\n",
       "      <td>1674800</td>\n",
       "    </tr>\n",
       "    <tr>\n",
       "      <th>1</th>\n",
       "      <td>1</td>\n",
       "      <td>1899027</td>\n",
       "      <td>3864922</td>\n",
       "    </tr>\n",
       "    <tr>\n",
       "      <th>2</th>\n",
       "      <td>1</td>\n",
       "      <td>4085621</td>\n",
       "      <td>4285615</td>\n",
       "    </tr>\n",
       "    <tr>\n",
       "      <th>3</th>\n",
       "      <td>1</td>\n",
       "      <td>4920445</td>\n",
       "      <td>5092120</td>\n",
       "    </tr>\n",
       "    <tr>\n",
       "      <th>4</th>\n",
       "      <td>1</td>\n",
       "      <td>5330209</td>\n",
       "      <td>5493329</td>\n",
       "    </tr>\n",
       "    <tr>\n",
       "      <th>...</th>\n",
       "      <td>...</td>\n",
       "      <td>...</td>\n",
       "      <td>...</td>\n",
       "    </tr>\n",
       "    <tr>\n",
       "      <th>382</th>\n",
       "      <td>24</td>\n",
       "      <td>15800000</td>\n",
       "      <td>16122374</td>\n",
       "    </tr>\n",
       "    <tr>\n",
       "      <th>383</th>\n",
       "      <td>24</td>\n",
       "      <td>16155235</td>\n",
       "      <td>20893633</td>\n",
       "    </tr>\n",
       "    <tr>\n",
       "      <th>384</th>\n",
       "      <td>24</td>\n",
       "      <td>20916193</td>\n",
       "      <td>21144650</td>\n",
       "    </tr>\n",
       "    <tr>\n",
       "      <th>385</th>\n",
       "      <td>24</td>\n",
       "      <td>21180878</td>\n",
       "      <td>22737164</td>\n",
       "    </tr>\n",
       "    <tr>\n",
       "      <th>386</th>\n",
       "      <td>24</td>\n",
       "      <td>22775171</td>\n",
       "      <td>57227415</td>\n",
       "    </tr>\n",
       "  </tbody>\n",
       "</table>\n",
       "<p>387 rows × 3 columns</p>\n",
       "</div>"
      ],
      "text/plain": [
       "     Chr  StartPos    EndPos\n",
       "0      1     14453   1674800\n",
       "1      1   1899027   3864922\n",
       "2      1   4085621   4285615\n",
       "3      1   4920445   5092120\n",
       "4      1   5330209   5493329\n",
       "..   ...       ...       ...\n",
       "382   24  15800000  16122374\n",
       "383   24  16155235  20893633\n",
       "384   24  20916193  21144650\n",
       "385   24  21180878  22737164\n",
       "386   24  22775171  57227415\n",
       "\n",
       "[387 rows x 3 columns]"
      ]
     },
     "execution_count": 3,
     "metadata": {},
     "output_type": "execute_result"
    }
   ],
   "source": [
    "original_masking_df"
   ]
  },
  {
   "cell_type": "code",
   "execution_count": 4,
   "id": "9203033b",
   "metadata": {},
   "outputs": [],
   "source": [
    "superdup_masking_df = pd.read_csv(\n",
    "    '/media/zhaoyang-new/workspace/KarSim/KarSimulator/Metadata/genomicSuperDups.bed', \n",
    "    sep='\\t', usecols=[0,1,2], names=['Chr', 'StartPos', 'EndPos'])"
   ]
  },
  {
   "cell_type": "code",
   "execution_count": 7,
   "id": "f3780c08",
   "metadata": {},
   "outputs": [
    {
     "data": {
      "text/plain": [
       "947"
      ]
     },
     "execution_count": 7,
     "metadata": {},
     "output_type": "execute_result"
    }
   ],
   "source": [
    "len(superdup_masking_df[superdup_masking_df['EndPos'] - superdup_masking_df['StartPos'] > 100000])"
   ]
  },
  {
   "cell_type": "code",
   "execution_count": 8,
   "id": "f5df720b",
   "metadata": {},
   "outputs": [],
   "source": [
    "superdup_masking_df = superdup_masking_df[superdup_masking_df['EndPos'] - superdup_masking_df['StartPos'] > 100000]"
   ]
  },
  {
   "cell_type": "code",
   "execution_count": 9,
   "id": "d296da05",
   "metadata": {},
   "outputs": [
    {
     "data": {
      "text/html": [
       "<div>\n",
       "<style scoped>\n",
       "    .dataframe tbody tr th:only-of-type {\n",
       "        vertical-align: middle;\n",
       "    }\n",
       "\n",
       "    .dataframe tbody tr th {\n",
       "        vertical-align: top;\n",
       "    }\n",
       "\n",
       "    .dataframe thead th {\n",
       "        text-align: right;\n",
       "    }\n",
       "</style>\n",
       "<table border=\"1\" class=\"dataframe\">\n",
       "  <thead>\n",
       "    <tr style=\"text-align: right;\">\n",
       "      <th></th>\n",
       "      <th>Chr</th>\n",
       "      <th>StartPos</th>\n",
       "      <th>EndPos</th>\n",
       "    </tr>\n",
       "  </thead>\n",
       "  <tbody>\n",
       "    <tr>\n",
       "      <th>174</th>\n",
       "      <td>1</td>\n",
       "      <td>347968</td>\n",
       "      <td>478559</td>\n",
       "    </tr>\n",
       "    <tr>\n",
       "      <th>175</th>\n",
       "      <td>1</td>\n",
       "      <td>347968</td>\n",
       "      <td>529769</td>\n",
       "    </tr>\n",
       "    <tr>\n",
       "      <th>194</th>\n",
       "      <td>1</td>\n",
       "      <td>355345</td>\n",
       "      <td>485660</td>\n",
       "    </tr>\n",
       "    <tr>\n",
       "      <th>196</th>\n",
       "      <td>1</td>\n",
       "      <td>357216</td>\n",
       "      <td>499005</td>\n",
       "    </tr>\n",
       "    <tr>\n",
       "      <th>219</th>\n",
       "      <td>1</td>\n",
       "      <td>422078</td>\n",
       "      <td>535988</td>\n",
       "    </tr>\n",
       "    <tr>\n",
       "      <th>...</th>\n",
       "      <td>...</td>\n",
       "      <td>...</td>\n",
       "      <td>...</td>\n",
       "    </tr>\n",
       "    <tr>\n",
       "      <th>64058</th>\n",
       "      <td>24</td>\n",
       "      <td>25566691</td>\n",
       "      <td>25686389</td>\n",
       "    </tr>\n",
       "    <tr>\n",
       "      <th>64064</th>\n",
       "      <td>24</td>\n",
       "      <td>25967291</td>\n",
       "      <td>26196584</td>\n",
       "    </tr>\n",
       "    <tr>\n",
       "      <th>64065</th>\n",
       "      <td>24</td>\n",
       "      <td>25967291</td>\n",
       "      <td>26135950</td>\n",
       "    </tr>\n",
       "    <tr>\n",
       "      <th>64074</th>\n",
       "      <td>24</td>\n",
       "      <td>26211449</td>\n",
       "      <td>26332449</td>\n",
       "    </tr>\n",
       "    <tr>\n",
       "      <th>64152</th>\n",
       "      <td>24</td>\n",
       "      <td>26530035</td>\n",
       "      <td>26637925</td>\n",
       "    </tr>\n",
       "  </tbody>\n",
       "</table>\n",
       "<p>947 rows × 3 columns</p>\n",
       "</div>"
      ],
      "text/plain": [
       "       Chr  StartPos    EndPos\n",
       "174      1    347968    478559\n",
       "175      1    347968    529769\n",
       "194      1    355345    485660\n",
       "196      1    357216    499005\n",
       "219      1    422078    535988\n",
       "...    ...       ...       ...\n",
       "64058   24  25566691  25686389\n",
       "64064   24  25967291  26196584\n",
       "64065   24  25967291  26135950\n",
       "64074   24  26211449  26332449\n",
       "64152   24  26530035  26637925\n",
       "\n",
       "[947 rows x 3 columns]"
      ]
     },
     "execution_count": 9,
     "metadata": {},
     "output_type": "execute_result"
    }
   ],
   "source": [
    "superdup_masking_df"
   ]
  },
  {
   "cell_type": "code",
   "execution_count": 10,
   "id": "c13e4d88",
   "metadata": {},
   "outputs": [],
   "source": [
    "centromere_df = pd.read_csv(\n",
    "    '/media/zhaoyang-new/workspace/KarSim/KarSimulator/Metadata/Full_Genome_Indices.txt', \n",
    "    sep='\\t', usecols=[0,3,4], names=['Chr', 'StartPos', 'EndPos'])\n",
    "centromere_df['Chr'] = centromere_df['Chr'].str.replace('Chr', '')\n",
    "centromere_df['Chr'] = centromere_df['Chr'].str.replace('X', '23')\n",
    "centromere_df['Chr'] = centromere_df['Chr'].str.replace('Y', '24')"
   ]
  },
  {
   "cell_type": "code",
   "execution_count": 11,
   "id": "b84819c9",
   "metadata": {},
   "outputs": [
    {
     "data": {
      "text/html": [
       "<div>\n",
       "<style scoped>\n",
       "    .dataframe tbody tr th:only-of-type {\n",
       "        vertical-align: middle;\n",
       "    }\n",
       "\n",
       "    .dataframe tbody tr th {\n",
       "        vertical-align: top;\n",
       "    }\n",
       "\n",
       "    .dataframe thead th {\n",
       "        text-align: right;\n",
       "    }\n",
       "</style>\n",
       "<table border=\"1\" class=\"dataframe\">\n",
       "  <thead>\n",
       "    <tr style=\"text-align: right;\">\n",
       "      <th></th>\n",
       "      <th>Chr</th>\n",
       "      <th>StartPos</th>\n",
       "      <th>EndPos</th>\n",
       "    </tr>\n",
       "  </thead>\n",
       "  <tbody>\n",
       "    <tr>\n",
       "      <th>0</th>\n",
       "      <td>1</td>\n",
       "      <td>0</td>\n",
       "      <td>9999</td>\n",
       "    </tr>\n",
       "    <tr>\n",
       "      <th>1</th>\n",
       "      <td>2</td>\n",
       "      <td>0</td>\n",
       "      <td>9999</td>\n",
       "    </tr>\n",
       "    <tr>\n",
       "      <th>2</th>\n",
       "      <td>3</td>\n",
       "      <td>0</td>\n",
       "      <td>9999</td>\n",
       "    </tr>\n",
       "    <tr>\n",
       "      <th>3</th>\n",
       "      <td>4</td>\n",
       "      <td>0</td>\n",
       "      <td>9999</td>\n",
       "    </tr>\n",
       "    <tr>\n",
       "      <th>4</th>\n",
       "      <td>5</td>\n",
       "      <td>0</td>\n",
       "      <td>9999</td>\n",
       "    </tr>\n",
       "    <tr>\n",
       "      <th>5</th>\n",
       "      <td>6</td>\n",
       "      <td>0</td>\n",
       "      <td>59999</td>\n",
       "    </tr>\n",
       "    <tr>\n",
       "      <th>6</th>\n",
       "      <td>7</td>\n",
       "      <td>0</td>\n",
       "      <td>9999</td>\n",
       "    </tr>\n",
       "    <tr>\n",
       "      <th>7</th>\n",
       "      <td>8</td>\n",
       "      <td>0</td>\n",
       "      <td>59999</td>\n",
       "    </tr>\n",
       "    <tr>\n",
       "      <th>8</th>\n",
       "      <td>9</td>\n",
       "      <td>0</td>\n",
       "      <td>9999</td>\n",
       "    </tr>\n",
       "    <tr>\n",
       "      <th>9</th>\n",
       "      <td>10</td>\n",
       "      <td>0</td>\n",
       "      <td>9999</td>\n",
       "    </tr>\n",
       "    <tr>\n",
       "      <th>10</th>\n",
       "      <td>11</td>\n",
       "      <td>0</td>\n",
       "      <td>59999</td>\n",
       "    </tr>\n",
       "    <tr>\n",
       "      <th>11</th>\n",
       "      <td>12</td>\n",
       "      <td>0</td>\n",
       "      <td>9999</td>\n",
       "    </tr>\n",
       "    <tr>\n",
       "      <th>12</th>\n",
       "      <td>13</td>\n",
       "      <td>0</td>\n",
       "      <td>15999999</td>\n",
       "    </tr>\n",
       "    <tr>\n",
       "      <th>13</th>\n",
       "      <td>14</td>\n",
       "      <td>0</td>\n",
       "      <td>15999999</td>\n",
       "    </tr>\n",
       "    <tr>\n",
       "      <th>14</th>\n",
       "      <td>15</td>\n",
       "      <td>0</td>\n",
       "      <td>16999999</td>\n",
       "    </tr>\n",
       "    <tr>\n",
       "      <th>15</th>\n",
       "      <td>16</td>\n",
       "      <td>0</td>\n",
       "      <td>9999</td>\n",
       "    </tr>\n",
       "    <tr>\n",
       "      <th>16</th>\n",
       "      <td>17</td>\n",
       "      <td>0</td>\n",
       "      <td>59999</td>\n",
       "    </tr>\n",
       "    <tr>\n",
       "      <th>17</th>\n",
       "      <td>18</td>\n",
       "      <td>0</td>\n",
       "      <td>9999</td>\n",
       "    </tr>\n",
       "    <tr>\n",
       "      <th>18</th>\n",
       "      <td>19</td>\n",
       "      <td>0</td>\n",
       "      <td>59999</td>\n",
       "    </tr>\n",
       "    <tr>\n",
       "      <th>19</th>\n",
       "      <td>20</td>\n",
       "      <td>0</td>\n",
       "      <td>59999</td>\n",
       "    </tr>\n",
       "    <tr>\n",
       "      <th>20</th>\n",
       "      <td>21</td>\n",
       "      <td>0</td>\n",
       "      <td>5009999</td>\n",
       "    </tr>\n",
       "    <tr>\n",
       "      <th>21</th>\n",
       "      <td>22</td>\n",
       "      <td>0</td>\n",
       "      <td>10509999</td>\n",
       "    </tr>\n",
       "    <tr>\n",
       "      <th>22</th>\n",
       "      <td>23</td>\n",
       "      <td>0</td>\n",
       "      <td>9999</td>\n",
       "    </tr>\n",
       "    <tr>\n",
       "      <th>23</th>\n",
       "      <td>24</td>\n",
       "      <td>0</td>\n",
       "      <td>9999</td>\n",
       "    </tr>\n",
       "  </tbody>\n",
       "</table>\n",
       "</div>"
      ],
      "text/plain": [
       "   Chr  StartPos    EndPos\n",
       "0    1         0      9999\n",
       "1    2         0      9999\n",
       "2    3         0      9999\n",
       "3    4         0      9999\n",
       "4    5         0      9999\n",
       "5    6         0     59999\n",
       "6    7         0      9999\n",
       "7    8         0     59999\n",
       "8    9         0      9999\n",
       "9   10         0      9999\n",
       "10  11         0     59999\n",
       "11  12         0      9999\n",
       "12  13         0  15999999\n",
       "13  14         0  15999999\n",
       "14  15         0  16999999\n",
       "15  16         0      9999\n",
       "16  17         0     59999\n",
       "17  18         0      9999\n",
       "18  19         0     59999\n",
       "19  20         0     59999\n",
       "20  21         0   5009999\n",
       "21  22         0  10509999\n",
       "22  23         0      9999\n",
       "23  24         0      9999"
      ]
     },
     "execution_count": 11,
     "metadata": {},
     "output_type": "execute_result"
    }
   ],
   "source": [
    "t1_df = pd.read_csv(\n",
    "    '/media/zhaoyang-new/workspace/KarSim/KarSimulator/Metadata/Full_Genome_Indices.txt', \n",
    "    sep='\\t', usecols=[0,2], names=['Chr', 'EndPos'])\n",
    "t1_df['StartPos'] = 0\n",
    "t1_df['Chr'] = t1_df['Chr'].str.replace('Chr', '')\n",
    "t1_df['Chr'] = t1_df['Chr'].str.replace('X', '23')\n",
    "t1_df['Chr'] = t1_df['Chr'].str.replace('Y', '24')\n",
    "t1_df = t1_df[['Chr', 'StartPos', 'EndPos']]\n",
    "t1_df['EndPos'] = t1_df['EndPos'] - 1\n",
    "t1_df"
   ]
  },
  {
   "cell_type": "code",
   "execution_count": 12,
   "id": "3142763a",
   "metadata": {},
   "outputs": [
    {
     "data": {
      "text/html": [
       "<div>\n",
       "<style scoped>\n",
       "    .dataframe tbody tr th:only-of-type {\n",
       "        vertical-align: middle;\n",
       "    }\n",
       "\n",
       "    .dataframe tbody tr th {\n",
       "        vertical-align: top;\n",
       "    }\n",
       "\n",
       "    .dataframe thead th {\n",
       "        text-align: right;\n",
       "    }\n",
       "</style>\n",
       "<table border=\"1\" class=\"dataframe\">\n",
       "  <thead>\n",
       "    <tr style=\"text-align: right;\">\n",
       "      <th></th>\n",
       "      <th>Chr</th>\n",
       "      <th>StartPos</th>\n",
       "      <th>EndPos</th>\n",
       "    </tr>\n",
       "  </thead>\n",
       "  <tbody>\n",
       "    <tr>\n",
       "      <th>0</th>\n",
       "      <td>1</td>\n",
       "      <td>248946422</td>\n",
       "      <td>248956421</td>\n",
       "    </tr>\n",
       "    <tr>\n",
       "      <th>1</th>\n",
       "      <td>2</td>\n",
       "      <td>242183529</td>\n",
       "      <td>242193528</td>\n",
       "    </tr>\n",
       "    <tr>\n",
       "      <th>2</th>\n",
       "      <td>3</td>\n",
       "      <td>198235559</td>\n",
       "      <td>198295558</td>\n",
       "    </tr>\n",
       "    <tr>\n",
       "      <th>3</th>\n",
       "      <td>4</td>\n",
       "      <td>190204555</td>\n",
       "      <td>190214554</td>\n",
       "    </tr>\n",
       "    <tr>\n",
       "      <th>4</th>\n",
       "      <td>5</td>\n",
       "      <td>181478259</td>\n",
       "      <td>181538258</td>\n",
       "    </tr>\n",
       "    <tr>\n",
       "      <th>5</th>\n",
       "      <td>6</td>\n",
       "      <td>170745979</td>\n",
       "      <td>170805978</td>\n",
       "    </tr>\n",
       "    <tr>\n",
       "      <th>6</th>\n",
       "      <td>7</td>\n",
       "      <td>159335973</td>\n",
       "      <td>159345972</td>\n",
       "    </tr>\n",
       "    <tr>\n",
       "      <th>7</th>\n",
       "      <td>8</td>\n",
       "      <td>145078636</td>\n",
       "      <td>145138635</td>\n",
       "    </tr>\n",
       "    <tr>\n",
       "      <th>8</th>\n",
       "      <td>9</td>\n",
       "      <td>138334717</td>\n",
       "      <td>138394716</td>\n",
       "    </tr>\n",
       "    <tr>\n",
       "      <th>9</th>\n",
       "      <td>10</td>\n",
       "      <td>133787422</td>\n",
       "      <td>133797421</td>\n",
       "    </tr>\n",
       "    <tr>\n",
       "      <th>10</th>\n",
       "      <td>11</td>\n",
       "      <td>135076622</td>\n",
       "      <td>135086621</td>\n",
       "    </tr>\n",
       "    <tr>\n",
       "      <th>11</th>\n",
       "      <td>12</td>\n",
       "      <td>133265309</td>\n",
       "      <td>133275308</td>\n",
       "    </tr>\n",
       "    <tr>\n",
       "      <th>12</th>\n",
       "      <td>13</td>\n",
       "      <td>114354328</td>\n",
       "      <td>114364327</td>\n",
       "    </tr>\n",
       "    <tr>\n",
       "      <th>13</th>\n",
       "      <td>14</td>\n",
       "      <td>106883718</td>\n",
       "      <td>107043717</td>\n",
       "    </tr>\n",
       "    <tr>\n",
       "      <th>14</th>\n",
       "      <td>15</td>\n",
       "      <td>101981189</td>\n",
       "      <td>101991188</td>\n",
       "    </tr>\n",
       "    <tr>\n",
       "      <th>15</th>\n",
       "      <td>16</td>\n",
       "      <td>90228345</td>\n",
       "      <td>90338344</td>\n",
       "    </tr>\n",
       "    <tr>\n",
       "      <th>16</th>\n",
       "      <td>17</td>\n",
       "      <td>83247441</td>\n",
       "      <td>83257440</td>\n",
       "    </tr>\n",
       "    <tr>\n",
       "      <th>17</th>\n",
       "      <td>18</td>\n",
       "      <td>80263285</td>\n",
       "      <td>80373284</td>\n",
       "    </tr>\n",
       "    <tr>\n",
       "      <th>18</th>\n",
       "      <td>19</td>\n",
       "      <td>58607616</td>\n",
       "      <td>58617615</td>\n",
       "    </tr>\n",
       "    <tr>\n",
       "      <th>19</th>\n",
       "      <td>20</td>\n",
       "      <td>64334167</td>\n",
       "      <td>64444166</td>\n",
       "    </tr>\n",
       "    <tr>\n",
       "      <th>20</th>\n",
       "      <td>21</td>\n",
       "      <td>46699983</td>\n",
       "      <td>46709982</td>\n",
       "    </tr>\n",
       "    <tr>\n",
       "      <th>21</th>\n",
       "      <td>22</td>\n",
       "      <td>50808468</td>\n",
       "      <td>50818467</td>\n",
       "    </tr>\n",
       "    <tr>\n",
       "      <th>22</th>\n",
       "      <td>23</td>\n",
       "      <td>156030895</td>\n",
       "      <td>156040894</td>\n",
       "    </tr>\n",
       "    <tr>\n",
       "      <th>23</th>\n",
       "      <td>24</td>\n",
       "      <td>57217415</td>\n",
       "      <td>57227414</td>\n",
       "    </tr>\n",
       "  </tbody>\n",
       "</table>\n",
       "</div>"
      ],
      "text/plain": [
       "   Chr   StartPos     EndPos\n",
       "0    1  248946422  248956421\n",
       "1    2  242183529  242193528\n",
       "2    3  198235559  198295558\n",
       "3    4  190204555  190214554\n",
       "4    5  181478259  181538258\n",
       "5    6  170745979  170805978\n",
       "6    7  159335973  159345972\n",
       "7    8  145078636  145138635\n",
       "8    9  138334717  138394716\n",
       "9   10  133787422  133797421\n",
       "10  11  135076622  135086621\n",
       "11  12  133265309  133275308\n",
       "12  13  114354328  114364327\n",
       "13  14  106883718  107043717\n",
       "14  15  101981189  101991188\n",
       "15  16   90228345   90338344\n",
       "16  17   83247441   83257440\n",
       "17  18   80263285   80373284\n",
       "18  19   58607616   58617615\n",
       "19  20   64334167   64444166\n",
       "20  21   46699983   46709982\n",
       "21  22   50808468   50818467\n",
       "22  23  156030895  156040894\n",
       "23  24   57217415   57227414"
      ]
     },
     "execution_count": 12,
     "metadata": {},
     "output_type": "execute_result"
    }
   ],
   "source": [
    "t2_df = pd.read_csv(\n",
    "    '/media/zhaoyang-new/workspace/KarSim/KarSimulator/Metadata/Full_Genome_Indices.txt', \n",
    "    sep='\\t', usecols=[0,1,5], names=['Chr', 'EndPos', 'StartPos'])\n",
    "t2_df['Chr'] = t2_df['Chr'].str.replace('Chr', '')\n",
    "t2_df['Chr'] = t2_df['Chr'].str.replace('X', '23')\n",
    "t2_df['Chr'] = t2_df['Chr'].str.replace('Y', '24')\n",
    "t2_df = t2_df[['Chr', 'StartPos', 'EndPos']]\n",
    "t2_df['StartPos'] = t2_df['StartPos'] + 1\n",
    "t2_df['EndPos'] = t2_df['EndPos'] - 1\n",
    "t2_df"
   ]
  },
  {
   "cell_type": "code",
   "execution_count": 16,
   "id": "18f8ae1a",
   "metadata": {},
   "outputs": [],
   "source": [
    "merged_df = pd.concat([centromere_df, t1_df, t2_df, original_masking_df, superdup_masking_df], ignore_index=True)\n",
    "merged_df['Chr'] = merged_df['Chr'].astype(int)\n",
    "merged_df.sort_values(by=['Chr', 'StartPos', 'EndPos'], inplace=True)"
   ]
  },
  {
   "cell_type": "code",
   "execution_count": 17,
   "id": "b975193d",
   "metadata": {},
   "outputs": [
    {
     "data": {
      "text/html": [
       "<div>\n",
       "<style scoped>\n",
       "    .dataframe tbody tr th:only-of-type {\n",
       "        vertical-align: middle;\n",
       "    }\n",
       "\n",
       "    .dataframe tbody tr th {\n",
       "        vertical-align: top;\n",
       "    }\n",
       "\n",
       "    .dataframe thead th {\n",
       "        text-align: right;\n",
       "    }\n",
       "</style>\n",
       "<table border=\"1\" class=\"dataframe\">\n",
       "  <thead>\n",
       "    <tr style=\"text-align: right;\">\n",
       "      <th></th>\n",
       "      <th>Chr</th>\n",
       "      <th>StartPos</th>\n",
       "      <th>EndPos</th>\n",
       "    </tr>\n",
       "  </thead>\n",
       "  <tbody>\n",
       "    <tr>\n",
       "      <th>24</th>\n",
       "      <td>1</td>\n",
       "      <td>0</td>\n",
       "      <td>9999</td>\n",
       "    </tr>\n",
       "    <tr>\n",
       "      <th>72</th>\n",
       "      <td>1</td>\n",
       "      <td>14453</td>\n",
       "      <td>1674800</td>\n",
       "    </tr>\n",
       "    <tr>\n",
       "      <th>459</th>\n",
       "      <td>1</td>\n",
       "      <td>347968</td>\n",
       "      <td>478559</td>\n",
       "    </tr>\n",
       "    <tr>\n",
       "      <th>460</th>\n",
       "      <td>1</td>\n",
       "      <td>347968</td>\n",
       "      <td>529769</td>\n",
       "    </tr>\n",
       "    <tr>\n",
       "      <th>461</th>\n",
       "      <td>1</td>\n",
       "      <td>355345</td>\n",
       "      <td>485660</td>\n",
       "    </tr>\n",
       "    <tr>\n",
       "      <th>...</th>\n",
       "      <td>...</td>\n",
       "      <td>...</td>\n",
       "      <td>...</td>\n",
       "    </tr>\n",
       "    <tr>\n",
       "      <th>1403</th>\n",
       "      <td>24</td>\n",
       "      <td>25967291</td>\n",
       "      <td>26135950</td>\n",
       "    </tr>\n",
       "    <tr>\n",
       "      <th>1402</th>\n",
       "      <td>24</td>\n",
       "      <td>25967291</td>\n",
       "      <td>26196584</td>\n",
       "    </tr>\n",
       "    <tr>\n",
       "      <th>1404</th>\n",
       "      <td>24</td>\n",
       "      <td>26211449</td>\n",
       "      <td>26332449</td>\n",
       "    </tr>\n",
       "    <tr>\n",
       "      <th>1405</th>\n",
       "      <td>24</td>\n",
       "      <td>26530035</td>\n",
       "      <td>26637925</td>\n",
       "    </tr>\n",
       "    <tr>\n",
       "      <th>71</th>\n",
       "      <td>24</td>\n",
       "      <td>57217415</td>\n",
       "      <td>57227414</td>\n",
       "    </tr>\n",
       "  </tbody>\n",
       "</table>\n",
       "<p>1406 rows × 3 columns</p>\n",
       "</div>"
      ],
      "text/plain": [
       "      Chr  StartPos    EndPos\n",
       "24      1         0      9999\n",
       "72      1     14453   1674800\n",
       "459     1    347968    478559\n",
       "460     1    347968    529769\n",
       "461     1    355345    485660\n",
       "...   ...       ...       ...\n",
       "1403   24  25967291  26135950\n",
       "1402   24  25967291  26196584\n",
       "1404   24  26211449  26332449\n",
       "1405   24  26530035  26637925\n",
       "71     24  57217415  57227414\n",
       "\n",
       "[1406 rows x 3 columns]"
      ]
     },
     "execution_count": 17,
     "metadata": {},
     "output_type": "execute_result"
    }
   ],
   "source": [
    "merged_df"
   ]
  },
  {
   "cell_type": "code",
   "execution_count": 18,
   "id": "b31649ef",
   "metadata": {},
   "outputs": [],
   "source": [
    "merged_df.to_csv('../Metadata/merged_masking.bed', index=False, sep='\\t')"
   ]
  },
  {
   "cell_type": "markdown",
   "id": "f399b7ca",
   "metadata": {},
   "source": [
    "### Analyze SuperDup"
   ]
  },
  {
   "cell_type": "code",
   "execution_count": null,
   "id": "e9a0d95d",
   "metadata": {},
   "outputs": [],
   "source": [
    "## Check if SuperDups have intervals not included in the original masking file\n",
    "mask = superdup_masking_df.apply(\n",
    "    lambda row: original_masking_df[\n",
    "        (original_masking_df['Chr'] == row['Chr']) &\n",
    "        (original_masking_df['StartPos'] <= row['StartPos']) &\n",
    "        (original_masking_df['EndPos'] >= row['EndPos'])\n",
    "    ].empty,\n",
    "    axis=1\n",
    ")\n",
    "\n",
    "# Filter superdup_masking_df to get intervals that are not completely inside original_masking_df\n",
    "intervals_not_in_original = superdup_masking_df[mask]\n",
    "\n",
    "# Display intervals that are not completely inside original_masking_df\n",
    "print(intervals_not_in_original)"
   ]
  },
  {
   "cell_type": "code",
   "execution_count": 57,
   "id": "efe480f0",
   "metadata": {},
   "outputs": [],
   "source": [
    "superdup_masking_df['length'] = superdup_masking_df['EndPos'] - superdup_masking_df['StartPos']"
   ]
  },
  {
   "cell_type": "code",
   "execution_count": 58,
   "id": "e9328522",
   "metadata": {},
   "outputs": [
    {
     "data": {
      "text/html": [
       "<div>\n",
       "<style scoped>\n",
       "    .dataframe tbody tr th:only-of-type {\n",
       "        vertical-align: middle;\n",
       "    }\n",
       "\n",
       "    .dataframe tbody tr th {\n",
       "        vertical-align: top;\n",
       "    }\n",
       "\n",
       "    .dataframe thead th {\n",
       "        text-align: right;\n",
       "    }\n",
       "</style>\n",
       "<table border=\"1\" class=\"dataframe\">\n",
       "  <thead>\n",
       "    <tr style=\"text-align: right;\">\n",
       "      <th></th>\n",
       "      <th>Chr</th>\n",
       "      <th>StartPos</th>\n",
       "      <th>EndPos</th>\n",
       "      <th>length</th>\n",
       "    </tr>\n",
       "  </thead>\n",
       "  <tbody>\n",
       "    <tr>\n",
       "      <th>0</th>\n",
       "      <td>1</td>\n",
       "      <td>10000</td>\n",
       "      <td>87112</td>\n",
       "      <td>77112</td>\n",
       "    </tr>\n",
       "    <tr>\n",
       "      <th>1</th>\n",
       "      <td>1</td>\n",
       "      <td>10000</td>\n",
       "      <td>20818</td>\n",
       "      <td>10818</td>\n",
       "    </tr>\n",
       "    <tr>\n",
       "      <th>2</th>\n",
       "      <td>1</td>\n",
       "      <td>10000</td>\n",
       "      <td>19844</td>\n",
       "      <td>9844</td>\n",
       "    </tr>\n",
       "    <tr>\n",
       "      <th>3</th>\n",
       "      <td>1</td>\n",
       "      <td>10169</td>\n",
       "      <td>37148</td>\n",
       "      <td>26979</td>\n",
       "    </tr>\n",
       "    <tr>\n",
       "      <th>4</th>\n",
       "      <td>1</td>\n",
       "      <td>10464</td>\n",
       "      <td>40733</td>\n",
       "      <td>30269</td>\n",
       "    </tr>\n",
       "    <tr>\n",
       "      <th>...</th>\n",
       "      <td>...</td>\n",
       "      <td>...</td>\n",
       "      <td>...</td>\n",
       "      <td>...</td>\n",
       "    </tr>\n",
       "    <tr>\n",
       "      <th>64211</th>\n",
       "      <td>24</td>\n",
       "      <td>56862674</td>\n",
       "      <td>56866758</td>\n",
       "      <td>4084</td>\n",
       "    </tr>\n",
       "    <tr>\n",
       "      <th>64212</th>\n",
       "      <td>24</td>\n",
       "      <td>56862674</td>\n",
       "      <td>56866758</td>\n",
       "      <td>4084</td>\n",
       "    </tr>\n",
       "    <tr>\n",
       "      <th>64213</th>\n",
       "      <td>24</td>\n",
       "      <td>56866349</td>\n",
       "      <td>56867465</td>\n",
       "      <td>1116</td>\n",
       "    </tr>\n",
       "    <tr>\n",
       "      <th>64214</th>\n",
       "      <td>24</td>\n",
       "      <td>56878710</td>\n",
       "      <td>56879827</td>\n",
       "      <td>1117</td>\n",
       "    </tr>\n",
       "    <tr>\n",
       "      <th>64215</th>\n",
       "      <td>24</td>\n",
       "      <td>56881292</td>\n",
       "      <td>56887120</td>\n",
       "      <td>5828</td>\n",
       "    </tr>\n",
       "  </tbody>\n",
       "</table>\n",
       "<p>64216 rows × 4 columns</p>\n",
       "</div>"
      ],
      "text/plain": [
       "       Chr  StartPos    EndPos  length\n",
       "0        1     10000     87112   77112\n",
       "1        1     10000     20818   10818\n",
       "2        1     10000     19844    9844\n",
       "3        1     10169     37148   26979\n",
       "4        1     10464     40733   30269\n",
       "...    ...       ...       ...     ...\n",
       "64211   24  56862674  56866758    4084\n",
       "64212   24  56862674  56866758    4084\n",
       "64213   24  56866349  56867465    1116\n",
       "64214   24  56878710  56879827    1117\n",
       "64215   24  56881292  56887120    5828\n",
       "\n",
       "[64216 rows x 4 columns]"
      ]
     },
     "execution_count": 58,
     "metadata": {},
     "output_type": "execute_result"
    }
   ],
   "source": [
    "superdup_masking_df"
   ]
  },
  {
   "cell_type": "code",
   "execution_count": 63,
   "id": "1e6149ef",
   "metadata": {},
   "outputs": [
    {
     "data": {
      "image/png": "[encoded data removed]",
      "text/plain": [
       "<Figure size 432x288 with 1 Axes>"
      ]
     },
     "metadata": {
      "needs_background": "light"
     },
     "output_type": "display_data"
    }
   ],
   "source": [
    "plt.hist(superdup_masking_df['length'], bins=100, color='blue', edgecolor='black')\n",
    "plt.xlabel('Length')\n",
    "plt.ylabel('Frequency')\n",
    "plt.title('SuperDup Length Distribution')\n",
    "plt.show()"
   ]
  },
  {
   "cell_type": "code",
   "execution_count": 64,
   "id": "0f3dc3f6",
   "metadata": {},
   "outputs": [
    {
     "data": {
      "text/plain": [
       "(64216, 4)"
      ]
     },
     "execution_count": 64,
     "metadata": {},
     "output_type": "execute_result"
    }
   ],
   "source": [
    "superdup_masking_df.shape"
   ]
  },
  {
   "cell_type": "code",
   "execution_count": 67,
   "id": "3d0f2eec",
   "metadata": {},
   "outputs": [
    {
     "data": {
      "text/plain": [
       "2797"
      ]
     },
     "execution_count": 67,
     "metadata": {},
     "output_type": "execute_result"
    }
   ],
   "source": [
    "len(superdup_masking_df[superdup_masking_df['length'] > 50000])"
   ]
  },
  {
   "cell_type": "code",
   "execution_count": 65,
   "id": "190d787b",
   "metadata": {},
   "outputs": [
    {
     "data": {
      "text/plain": [
       "947"
      ]
     },
     "execution_count": 65,
     "metadata": {},
     "output_type": "execute_result"
    }
   ],
   "source": [
    "len(superdup_masking_df[superdup_masking_df['length'] > 100000])"
   ]
  },
  {
   "cell_type": "code",
   "execution_count": 70,
   "id": "1d008824",
   "metadata": {},
   "outputs": [
    {
     "data": {
      "text/plain": [
       "178"
      ]
     },
     "execution_count": 70,
     "metadata": {},
     "output_type": "execute_result"
    }
   ],
   "source": [
    "len(superdup_masking_df[superdup_masking_df['length'] > 200000])"
   ]
  },
  {
   "cell_type": "code",
   "execution_count": 66,
   "id": "0c5f95fa",
   "metadata": {},
   "outputs": [
    {
     "data": {
      "text/plain": [
       "10"
      ]
     },
     "execution_count": 66,
     "metadata": {},
     "output_type": "execute_result"
    }
   ],
   "source": [
    "len(superdup_masking_df[superdup_masking_df['length'] > 500000])"
   ]
  },
  {
   "cell_type": "code",
   "execution_count": 68,
   "id": "44f15511",
   "metadata": {},
   "outputs": [],
   "source": [
    "superdup_short = superdup_masking_df[superdup_masking_df['length'] < 100000]"
   ]
  },
  {
   "cell_type": "code",
   "execution_count": 69,
   "id": "4619af2d",
   "metadata": {},
   "outputs": [
    {
     "data": {
      "image/png": "[encoded data removed]",
      "text/plain": [
       "<Figure size 432x288 with 1 Axes>"
      ]
     },
     "metadata": {
      "needs_background": "light"
     },
     "output_type": "display_data"
    }
   ],
   "source": [
    "plt.hist(superdup_short['length'], bins=100, color='blue', edgecolor='black')\n",
    "plt.xlabel('Length')\n",
    "plt.ylabel('Frequency')\n",
    "plt.title('SuperDup Length Distribution, for those < 100,000 bp')\n",
    "plt.show()"
   ]
  },
  {
   "cell_type": "markdown",
   "id": "a26f80af",
   "metadata": {},
   "source": [
    "## Analyze Original Mask"
   ]
  },
  {
   "cell_type": "code",
   "execution_count": 71,
   "id": "e538c8ea",
   "metadata": {},
   "outputs": [],
   "source": [
    "original_masking_df['length'] = original_masking_df['EndPos'] - original_masking_df['StartPos']"
   ]
  },
  {
   "cell_type": "code",
   "execution_count": 72,
   "id": "9c16dc5c",
   "metadata": {},
   "outputs": [
    {
     "data": {
      "image/png": "[encoded data removed]",
      "text/plain": [
       "<Figure size 432x288 with 1 Axes>"
      ]
     },
     "metadata": {
      "needs_background": "light"
     },
     "output_type": "display_data"
    }
   ],
   "source": [
    "plt.hist(original_masking_df['length'], bins=100, color='blue', edgecolor='black')\n",
    "plt.xlabel('Length')\n",
    "plt.ylabel('Frequency')\n",
    "plt.title('Original Mask Length Distribution')\n",
    "plt.show()"
   ]
  },
  {
   "cell_type": "code",
   "execution_count": 73,
   "id": "3c77dd22",
   "metadata": {},
   "outputs": [
    {
     "data": {
      "text/plain": [
       "(387, 4)"
      ]
     },
     "execution_count": 73,
     "metadata": {},
     "output_type": "execute_result"
    }
   ],
   "source": [
    "original_masking_df.shape"
   ]
  },
  {
   "cell_type": "code",
   "execution_count": 81,
   "id": "1127c035",
   "metadata": {},
   "outputs": [
    {
     "data": {
      "text/plain": [
       "387"
      ]
     },
     "execution_count": 81,
     "metadata": {},
     "output_type": "execute_result"
    }
   ],
   "source": [
    "## All original masking region are big enough\n",
    "len(original_masking_df[original_masking_df['length'] > 100000])"
   ]
  },
  {
   "cell_type": "code",
   "execution_count": null,
   "id": "673e7057",
   "metadata": {},
   "outputs": [],
   "source": []
  }
 ],
 "metadata": {
  "kernelspec": {
   "display_name": "Python 3 (ipykernel)",
   "language": "python",
   "name": "python3"
  },
  "language_info": {
   "codemirror_mode": {
    "name": "ipython",
    "version": 3
   },
   "file_extension": ".py",
   "mimetype": "text/x-python",
   "name": "python",
   "nbconvert_exporter": "python",
   "pygments_lexer": "ipython3",
   "version": "3.9.12"
  }
 },
 "nbformat": 4,
 "nbformat_minor": 5
}
